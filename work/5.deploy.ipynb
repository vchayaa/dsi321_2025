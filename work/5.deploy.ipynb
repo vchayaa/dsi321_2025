{
 "cells": [
  {
   "cell_type": "code",
   "execution_count": 1,
   "id": "e5c7d802-c25d-4c27-9edf-feb4da2bd0b5",
   "metadata": {
    "editable": true,
    "slideshow": {
     "slide_type": ""
    },
    "tags": []
   },
   "outputs": [
    {
     "ename": "ValueError",
     "evalue": "Could not find work pool 'default-agent-pool'. Please create it before deploying this flow.",
     "output_type": "error",
     "traceback": [
      "\u001b[31m---------------------------------------------------------------------------\u001b[39m",
      "\u001b[31mPrefectHTTPStatusError\u001b[39m                    Traceback (most recent call last)",
      "\u001b[36mFile \u001b[39m\u001b[32m/usr/local/lib/python3.11/site-packages/prefect/client/orchestration.py:2619\u001b[39m, in \u001b[36mPrefectClient.read_work_pool\u001b[39m\u001b[34m(self, work_pool_name)\u001b[39m\n\u001b[32m   2618\u001b[39m \u001b[38;5;28;01mtry\u001b[39;00m:\n\u001b[32m-> \u001b[39m\u001b[32m2619\u001b[39m     response = \u001b[38;5;28;01mawait\u001b[39;00m \u001b[38;5;28mself\u001b[39m._client.get(\u001b[33mf\u001b[39m\u001b[33m\"\u001b[39m\u001b[33m/work_pools/\u001b[39m\u001b[38;5;132;01m{\u001b[39;00mwork_pool_name\u001b[38;5;132;01m}\u001b[39;00m\u001b[33m\"\u001b[39m)\n\u001b[32m   2620\u001b[39m     \u001b[38;5;28;01mreturn\u001b[39;00m WorkPool.model_validate(response.json())\n",
      "\u001b[36mFile \u001b[39m\u001b[32m/usr/local/lib/python3.11/site-packages/httpx/_client.py:1801\u001b[39m, in \u001b[36mAsyncClient.get\u001b[39m\u001b[34m(self, url, params, headers, cookies, auth, follow_redirects, timeout, extensions)\u001b[39m\n\u001b[32m   1796\u001b[39m \u001b[38;5;250m\u001b[39m\u001b[33;03m\"\"\"\u001b[39;00m\n\u001b[32m   1797\u001b[39m \u001b[33;03mSend a `GET` request.\u001b[39;00m\n\u001b[32m   1798\u001b[39m \n\u001b[32m   1799\u001b[39m \u001b[33;03m**Parameters**: See `httpx.request`.\u001b[39;00m\n\u001b[32m   1800\u001b[39m \u001b[33;03m\"\"\"\u001b[39;00m\n\u001b[32m-> \u001b[39m\u001b[32m1801\u001b[39m \u001b[38;5;28;01mreturn\u001b[39;00m \u001b[38;5;28;01mawait\u001b[39;00m \u001b[38;5;28mself\u001b[39m.request(\n\u001b[32m   1802\u001b[39m     \u001b[33m\"\u001b[39m\u001b[33mGET\u001b[39m\u001b[33m\"\u001b[39m,\n\u001b[32m   1803\u001b[39m     url,\n\u001b[32m   1804\u001b[39m     params=params,\n\u001b[32m   1805\u001b[39m     headers=headers,\n\u001b[32m   1806\u001b[39m     cookies=cookies,\n\u001b[32m   1807\u001b[39m     auth=auth,\n\u001b[32m   1808\u001b[39m     follow_redirects=follow_redirects,\n\u001b[32m   1809\u001b[39m     timeout=timeout,\n\u001b[32m   1810\u001b[39m     extensions=extensions,\n\u001b[32m   1811\u001b[39m )\n",
      "\u001b[36mFile \u001b[39m\u001b[32m/usr/local/lib/python3.11/site-packages/httpx/_client.py:1574\u001b[39m, in \u001b[36mAsyncClient.request\u001b[39m\u001b[34m(self, method, url, content, data, files, json, params, headers, cookies, auth, follow_redirects, timeout, extensions)\u001b[39m\n\u001b[32m   1561\u001b[39m request = \u001b[38;5;28mself\u001b[39m.build_request(\n\u001b[32m   1562\u001b[39m     method=method,\n\u001b[32m   1563\u001b[39m     url=url,\n\u001b[32m   (...)\u001b[39m\u001b[32m   1572\u001b[39m     extensions=extensions,\n\u001b[32m   1573\u001b[39m )\n\u001b[32m-> \u001b[39m\u001b[32m1574\u001b[39m \u001b[38;5;28;01mreturn\u001b[39;00m \u001b[38;5;28;01mawait\u001b[39;00m \u001b[38;5;28mself\u001b[39m.send(request, auth=auth, follow_redirects=follow_redirects)\n",
      "\u001b[36mFile \u001b[39m\u001b[32m/usr/local/lib/python3.11/site-packages/prefect/client/base.py:361\u001b[39m, in \u001b[36mPrefectHttpxAsyncClient.send\u001b[39m\u001b[34m(self, request, *args, **kwargs)\u001b[39m\n\u001b[32m    360\u001b[39m \u001b[38;5;28;01mif\u001b[39;00m \u001b[38;5;28mself\u001b[39m.raise_on_all_errors:\n\u001b[32m--> \u001b[39m\u001b[32m361\u001b[39m     \u001b[43mresponse\u001b[49m\u001b[43m.\u001b[49m\u001b[43mraise_for_status\u001b[49m\u001b[43m(\u001b[49m\u001b[43m)\u001b[49m\n\u001b[32m    363\u001b[39m \u001b[38;5;28;01mreturn\u001b[39;00m response\n",
      "\u001b[36mFile \u001b[39m\u001b[32m/usr/local/lib/python3.11/site-packages/prefect/client/base.py:174\u001b[39m, in \u001b[36mPrefectResponse.raise_for_status\u001b[39m\u001b[34m(self)\u001b[39m\n\u001b[32m    173\u001b[39m \u001b[38;5;28;01mexcept\u001b[39;00m HTTPStatusError \u001b[38;5;28;01mas\u001b[39;00m exc:\n\u001b[32m--> \u001b[39m\u001b[32m174\u001b[39m     \u001b[38;5;28;01mraise\u001b[39;00m PrefectHTTPStatusError.from_httpx_error(exc) \u001b[38;5;28;01mfrom\u001b[39;00m \u001b[34;01mexc\u001b[39;00m\u001b[34;01m.\u001b[39;00m\u001b[34;01m__cause__\u001b[39;00m\n",
      "\u001b[31mPrefectHTTPStatusError\u001b[39m: Client error '404 Not Found' for url 'http://prefect-server:4200/api/work_pools/default-agent-pool'\nResponse: {'detail': 'Work pool \"default-agent-pool\" not found.'}\nFor more information check: https://developer.mozilla.org/en-US/docs/Web/HTTP/Status/404",
      "\nThe above exception was the direct cause of the following exception:\n",
      "\u001b[31mObjectNotFound\u001b[39m                            Traceback (most recent call last)",
      "\u001b[36mFile \u001b[39m\u001b[32m/usr/local/lib/python3.11/site-packages/prefect/flows.py:1196\u001b[39m, in \u001b[36mFlow.deploy\u001b[39m\u001b[34m(self, name, work_pool_name, image, build, push, work_queue_name, job_variables, interval, cron, rrule, paused, schedules, schedule, is_schedule_active, triggers, parameters, description, tags, version, enforce_parameter_schema, entrypoint_type, print_next_steps, ignore_warnings)\u001b[39m\n\u001b[32m   1195\u001b[39m     \u001b[38;5;28;01masync\u001b[39;00m \u001b[38;5;28;01mwith\u001b[39;00m get_client() \u001b[38;5;28;01mas\u001b[39;00m client:\n\u001b[32m-> \u001b[39m\u001b[32m1196\u001b[39m         work_pool = \u001b[38;5;28;01mawait\u001b[39;00m client.read_work_pool(work_pool_name)\n\u001b[32m   1197\u001b[39m \u001b[38;5;28;01mexcept\u001b[39;00m ObjectNotFound \u001b[38;5;28;01mas\u001b[39;00m exc:\n",
      "\u001b[36mFile \u001b[39m\u001b[32m/usr/local/lib/python3.11/site-packages/prefect/client/orchestration.py:2623\u001b[39m, in \u001b[36mPrefectClient.read_work_pool\u001b[39m\u001b[34m(self, work_pool_name)\u001b[39m\n\u001b[32m   2622\u001b[39m \u001b[38;5;28;01mif\u001b[39;00m e.response.status_code == status.HTTP_404_NOT_FOUND:\n\u001b[32m-> \u001b[39m\u001b[32m2623\u001b[39m     \u001b[38;5;28;01mraise\u001b[39;00m prefect.exceptions.ObjectNotFound(http_exc=e) \u001b[38;5;28;01mfrom\u001b[39;00m \u001b[34;01me\u001b[39;00m\n\u001b[32m   2624\u001b[39m \u001b[38;5;28;01melse\u001b[39;00m:\n",
      "\u001b[31mObjectNotFound\u001b[39m: ",
      "\nThe above exception was the direct cause of the following exception:\n",
      "\u001b[31mValueError\u001b[39m                                Traceback (most recent call last)",
      "\u001b[36mCell\u001b[39m\u001b[36m \u001b[39m\u001b[32mIn[1]\u001b[39m\u001b[32m, line 34\u001b[39m\n\u001b[32m     31\u001b[39m     \u001b[38;5;28;01mreturn\u001b[39;00m deployment\n\u001b[32m     33\u001b[39m \u001b[38;5;66;03m# Run the async function in Jupyter using await at top-level\u001b[39;00m\n\u001b[32m---> \u001b[39m\u001b[32m34\u001b[39m deployment_result = \u001b[38;5;28;01mawait\u001b[39;00m register_deployment()\n\u001b[32m     35\u001b[39m \u001b[38;5;28mprint\u001b[39m(\u001b[33m\"\u001b[39m\u001b[33mDeployment registered:\u001b[39m\u001b[33m\"\u001b[39m, deployment_result)\n",
      "\u001b[36mCell\u001b[39m\u001b[36m \u001b[39m\u001b[32mIn[1]\u001b[39m\u001b[32m, line 18\u001b[39m, in \u001b[36mregister_deployment\u001b[39m\u001b[34m()\u001b[39m\n\u001b[32m     13\u001b[39m loaded_flow = \u001b[38;5;28;01mawait\u001b[39;00m flow.from_source(\n\u001b[32m     14\u001b[39m     source=SOURCE_REPO,\n\u001b[32m     15\u001b[39m     entrypoint=\u001b[33m\"\u001b[39m\u001b[33mmy_workflow.py:show_stars\u001b[39m\u001b[33m\"\u001b[39m,  \u001b[38;5;66;03m# Adjust to your repo's structure\u001b[39;00m\n\u001b[32m     16\u001b[39m )\n\u001b[32m     17\u001b[39m \u001b[38;5;66;03m# Now deploy the loaded flow (awaiting the deploy call)\u001b[39;00m\n\u001b[32m---> \u001b[39m\u001b[32m18\u001b[39m deployment = \u001b[38;5;28;01mawait\u001b[39;00m loaded_flow.deploy(\n\u001b[32m     19\u001b[39m     name=\u001b[33m\"\u001b[39m\u001b[33mmy_deployment\u001b[39m\u001b[33m\"\u001b[39m,\n\u001b[32m     20\u001b[39m     parameters={\n\u001b[32m     21\u001b[39m         \u001b[33m\"\u001b[39m\u001b[33mgithub_repos\u001b[39m\u001b[33m\"\u001b[39m: [\n\u001b[32m     22\u001b[39m             \u001b[33m\"\u001b[39m\u001b[33mwasit7/papapipeline\u001b[39m\u001b[33m\"\u001b[39m,\n\u001b[32m     23\u001b[39m             \u001b[33m\"\u001b[39m\u001b[33mwasit7/DjangoCrafter\u001b[39m\u001b[33m\"\u001b[39m,\n\u001b[32m     24\u001b[39m             \u001b[33m\"\u001b[39m\u001b[33mPrefectHQ/prefect\u001b[39m\u001b[33m\"\u001b[39m,\n\u001b[32m     25\u001b[39m             \u001b[33m\"\u001b[39m\u001b[33mhuggingface/transformers\u001b[39m\u001b[33m\"\u001b[39m\n\u001b[32m     26\u001b[39m         ]\n\u001b[32m     27\u001b[39m     },\n\u001b[32m     28\u001b[39m     work_pool_name=\u001b[33m\"\u001b[39m\u001b[33mdefault-agent-pool\u001b[39m\u001b[33m\"\u001b[39m,\n\u001b[32m     29\u001b[39m     cron=\u001b[33m\"\u001b[39m\u001b[33m*/15 * * * *\u001b[39m\u001b[33m\"\u001b[39m  \u001b[38;5;66;03m# Run every 5 minutes (adjust as needed)\u001b[39;00m\n\u001b[32m     30\u001b[39m )\n\u001b[32m     31\u001b[39m \u001b[38;5;28;01mreturn\u001b[39;00m deployment\n",
      "\u001b[36mFile \u001b[39m\u001b[32m/usr/local/lib/python3.11/site-packages/prefect/utilities/asyncutils.py:388\u001b[39m, in \u001b[36msync_compatible.<locals>.coroutine_wrapper.<locals>.ctx_call\u001b[39m\u001b[34m()\u001b[39m\n\u001b[32m    386\u001b[39m token = RUNNING_ASYNC_FLAG.set(\u001b[38;5;28;01mTrue\u001b[39;00m)\n\u001b[32m    387\u001b[39m \u001b[38;5;28;01mtry\u001b[39;00m:\n\u001b[32m--> \u001b[39m\u001b[32m388\u001b[39m     result = \u001b[38;5;28;01mawait\u001b[39;00m async_fn(*args, **kwargs)\n\u001b[32m    389\u001b[39m \u001b[38;5;28;01mfinally\u001b[39;00m:\n\u001b[32m    390\u001b[39m     RUNNING_ASYNC_FLAG.reset(token)\n",
      "\u001b[36mFile \u001b[39m\u001b[32m/usr/local/lib/python3.11/site-packages/prefect/flows.py:1198\u001b[39m, in \u001b[36mFlow.deploy\u001b[39m\u001b[34m(self, name, work_pool_name, image, build, push, work_queue_name, job_variables, interval, cron, rrule, paused, schedules, schedule, is_schedule_active, triggers, parameters, description, tags, version, enforce_parameter_schema, entrypoint_type, print_next_steps, ignore_warnings)\u001b[39m\n\u001b[32m   1196\u001b[39m         work_pool = \u001b[38;5;28;01mawait\u001b[39;00m client.read_work_pool(work_pool_name)\n\u001b[32m   1197\u001b[39m \u001b[38;5;28;01mexcept\u001b[39;00m ObjectNotFound \u001b[38;5;28;01mas\u001b[39;00m exc:\n\u001b[32m-> \u001b[39m\u001b[32m1198\u001b[39m     \u001b[38;5;28;01mraise\u001b[39;00m \u001b[38;5;167;01mValueError\u001b[39;00m(\n\u001b[32m   1199\u001b[39m         \u001b[33mf\u001b[39m\u001b[33m\"\u001b[39m\u001b[33mCould not find work pool \u001b[39m\u001b[38;5;132;01m{\u001b[39;00mwork_pool_name\u001b[38;5;132;01m!r}\u001b[39;00m\u001b[33m. Please create it before\u001b[39m\u001b[33m\"\u001b[39m\n\u001b[32m   1200\u001b[39m         \u001b[33m\"\u001b[39m\u001b[33m deploying this flow.\u001b[39m\u001b[33m\"\u001b[39m\n\u001b[32m   1201\u001b[39m     ) \u001b[38;5;28;01mfrom\u001b[39;00m \u001b[34;01mexc\u001b[39;00m\n\u001b[32m   1203\u001b[39m deployment = \u001b[38;5;28;01mawait\u001b[39;00m \u001b[38;5;28mself\u001b[39m.to_deployment(\n\u001b[32m   1204\u001b[39m     name=name,\n\u001b[32m   1205\u001b[39m     interval=interval,\n\u001b[32m   (...)\u001b[39m\u001b[32m   1220\u001b[39m     entrypoint_type=entrypoint_type,\n\u001b[32m   1221\u001b[39m )\n\u001b[32m   1223\u001b[39m \u001b[38;5;28;01mfrom\u001b[39;00m \u001b[34;01mprefect\u001b[39;00m\u001b[34;01m.\u001b[39;00m\u001b[34;01mdeployments\u001b[39;00m\u001b[34;01m.\u001b[39;00m\u001b[34;01mrunner\u001b[39;00m \u001b[38;5;28;01mimport\u001b[39;00m deploy\n",
      "\u001b[31mValueError\u001b[39m: Could not find work pool 'default-agent-pool'. Please create it before deploying this flow."
     ]
    }
   ],
   "source": [
    "import nest_asyncio\n",
    "nest_asyncio.apply()\n",
    "\n",
    "import asyncio\n",
    "from prefect import flow\n",
    "# Use the proper import for deployments if needed (depending on your version)\n",
    "# For example, in Prefect 3, the flow.from_source method is asynchronous.\n",
    "\n",
    "SOURCE_REPO = \"https://github.com/prefecthq/demos.git\"\n",
    "\n",
    "async def register_deployment():\n",
    "    # Await the from_source call to load the flow\n",
    "    loaded_flow = await flow.from_source(\n",
    "        source=SOURCE_REPO,\n",
    "        entrypoint=\"my_workflow.py:show_stars\",  # Adjust to your repo's structure\n",
    "    )\n",
    "    # Now deploy the loaded flow (awaiting the deploy call)\n",
    "    deployment = await loaded_flow.deploy(\n",
    "        name=\"my_deployment\",\n",
    "        parameters={\n",
    "            \"github_repos\": [\n",
    "                \"wasit7/papapipeline\",\n",
    "                \"wasit7/DjangoCrafter\",\n",
    "                \"PrefectHQ/prefect\",\n",
    "                \"huggingface/transformers\"\n",
    "            ]\n",
    "        },\n",
    "        work_pool_name=\"default-agent-pool\",\n",
    "        cron=\"*/15 * * * *\"  # Run every 5 minutes (adjust as needed)\n",
    "    )\n",
    "    return deployment\n",
    "\n",
    "# Run the async function in Jupyter using await at top-level\n",
    "deployment_result = await register_deployment()\n",
    "print(\"Deployment registered:\", deployment_result)\n"
   ]
  },
  {
   "cell_type": "code",
   "execution_count": null,
   "id": "428f209e-340a-4715-8f60-ca70fc3b3c21",
   "metadata": {},
   "outputs": [],
   "source": []
  },
  {
   "cell_type": "code",
   "execution_count": null,
   "id": "d59ea8c7-5c0d-4a2f-a176-f2cfb3767413",
   "metadata": {},
   "outputs": [],
   "source": []
  }
 ],
 "metadata": {
  "kernelspec": {
   "display_name": "Python 3 (ipykernel)",
   "language": "python",
   "name": "python3"
  },
  "language_info": {
   "codemirror_mode": {
    "name": "ipython",
    "version": 3
   },
   "file_extension": ".py",
   "mimetype": "text/x-python",
   "name": "python",
   "nbconvert_exporter": "python",
   "pygments_lexer": "ipython3",
   "version": "3.11.9"
  }
 },
 "nbformat": 4,
 "nbformat_minor": 5
}
