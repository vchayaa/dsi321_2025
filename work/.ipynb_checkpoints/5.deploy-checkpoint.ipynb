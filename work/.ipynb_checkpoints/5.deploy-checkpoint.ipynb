{
 "cells": [
  {
   "cell_type": "code",
   "execution_count": 3,
   "id": "e5c7d802-c25d-4c27-9edf-feb4da2bd0b5",
   "metadata": {
    "editable": true,
    "slideshow": {
     "slide_type": ""
    },
    "tags": []
   },
   "outputs": [
    {
     "ename": "MissingFlowError",
     "evalue": "Flow function with name 'main_flow' not found in '/tmp/tmpvqdyhnug/demos/my_workflow.py'. ",
     "output_type": "error",
     "traceback": [
      "\u001b[31m---------------------------------------------------------------------------\u001b[39m",
      "\u001b[31mAttributeError\u001b[39m                            Traceback (most recent call last)",
      "\u001b[36mFile \u001b[39m\u001b[32m/usr/local/lib/python3.11/site-packages/prefect/flows.py:1747\u001b[39m, in \u001b[36mload_flow_from_entrypoint\u001b[39m\u001b[34m(entrypoint, use_placeholder_flow)\u001b[39m\n\u001b[32m   1746\u001b[39m \u001b[38;5;28;01mtry\u001b[39;00m:\n\u001b[32m-> \u001b[39m\u001b[32m1747\u001b[39m     flow = \u001b[43mimport_object\u001b[49m\u001b[43m(\u001b[49m\u001b[43mentrypoint\u001b[49m\u001b[43m)\u001b[49m\n\u001b[32m   1748\u001b[39m \u001b[38;5;28;01mexcept\u001b[39;00m \u001b[38;5;167;01mAttributeError\u001b[39;00m \u001b[38;5;28;01mas\u001b[39;00m exc:\n",
      "\u001b[36mFile \u001b[39m\u001b[32m/usr/local/lib/python3.11/site-packages/prefect/utilities/importtools.py:218\u001b[39m, in \u001b[36mimport_object\u001b[39m\u001b[34m(import_path)\u001b[39m\n\u001b[32m    216\u001b[39m     module = load_module(module_name)\n\u001b[32m--> \u001b[39m\u001b[32m218\u001b[39m \u001b[38;5;28;01mreturn\u001b[39;00m \u001b[38;5;28;43mgetattr\u001b[39;49m\u001b[43m(\u001b[49m\u001b[43mmodule\u001b[49m\u001b[43m,\u001b[49m\u001b[43m \u001b[49m\u001b[43mobject_name\u001b[49m\u001b[43m)\u001b[49m\n",
      "\u001b[31mAttributeError\u001b[39m: module '__prefect_loader__' has no attribute 'main_flow'",
      "\nThe above exception was the direct cause of the following exception:\n",
      "\u001b[31mMissingFlowError\u001b[39m                          Traceback (most recent call last)",
      "\u001b[36mCell\u001b[39m\u001b[36m \u001b[39m\u001b[32mIn[3]\u001b[39m\u001b[32m, line 34\u001b[39m\n\u001b[32m     31\u001b[39m     \u001b[38;5;28;01mreturn\u001b[39;00m deployment\n\u001b[32m     33\u001b[39m \u001b[38;5;66;03m# Run the async function in Jupyter using await at top-level\u001b[39;00m\n\u001b[32m---> \u001b[39m\u001b[32m34\u001b[39m deployment_result = \u001b[38;5;28;01mawait\u001b[39;00m register_deployment()\n\u001b[32m     35\u001b[39m \u001b[38;5;28mprint\u001b[39m(\u001b[33m\"\u001b[39m\u001b[33mDeployment registered:\u001b[39m\u001b[33m\"\u001b[39m, deployment_result)\n",
      "\u001b[36mCell\u001b[39m\u001b[36m \u001b[39m\u001b[32mIn[3]\u001b[39m\u001b[32m, line 13\u001b[39m, in \u001b[36mregister_deployment\u001b[39m\u001b[34m()\u001b[39m\n\u001b[32m     11\u001b[39m \u001b[38;5;28;01masync\u001b[39;00m \u001b[38;5;28;01mdef\u001b[39;00m \u001b[34mregister_deployment\u001b[39m():\n\u001b[32m     12\u001b[39m     \u001b[38;5;66;03m# Await the from_source call to load the flow\u001b[39;00m\n\u001b[32m---> \u001b[39m\u001b[32m13\u001b[39m     loaded_flow = \u001b[38;5;28;01mawait\u001b[39;00m flow.from_source(\n\u001b[32m     14\u001b[39m         source=SOURCE_REPO,\n\u001b[32m     15\u001b[39m         entrypoint=\u001b[33m\"\u001b[39m\u001b[33mmy_workflow.py:main_flow\u001b[39m\u001b[33m\"\u001b[39m,  \u001b[38;5;66;03m# Adjust to your repo's structure\u001b[39;00m\n\u001b[32m     16\u001b[39m     )\n\u001b[32m     17\u001b[39m     \u001b[38;5;66;03m# Now deploy the loaded flow (awaiting the deploy call)\u001b[39;00m\n\u001b[32m     18\u001b[39m     deployment = \u001b[38;5;28;01mawait\u001b[39;00m loaded_flow.deploy(\n\u001b[32m     19\u001b[39m         name=\u001b[33m\"\u001b[39m\u001b[33mmy_deployment\u001b[39m\u001b[33m\"\u001b[39m,\n\u001b[32m     20\u001b[39m         parameters={\n\u001b[32m   (...)\u001b[39m\u001b[32m     29\u001b[39m         cron=\u001b[33m\"\u001b[39m\u001b[33m*/15 * * * *\u001b[39m\u001b[33m\"\u001b[39m  \u001b[38;5;66;03m# Run every 5 minutes (adjust as needed)\u001b[39;00m\n\u001b[32m     30\u001b[39m     )\n",
      "\u001b[36mFile \u001b[39m\u001b[32m/usr/local/lib/python3.11/site-packages/prefect/utilities/asyncutils.py:388\u001b[39m, in \u001b[36msync_compatible.<locals>.coroutine_wrapper.<locals>.ctx_call\u001b[39m\u001b[34m()\u001b[39m\n\u001b[32m    386\u001b[39m token = RUNNING_ASYNC_FLAG.set(\u001b[38;5;28;01mTrue\u001b[39;00m)\n\u001b[32m    387\u001b[39m \u001b[38;5;28;01mtry\u001b[39;00m:\n\u001b[32m--> \u001b[39m\u001b[32m388\u001b[39m     result = \u001b[38;5;28;01mawait\u001b[39;00m async_fn(*args, **kwargs)\n\u001b[32m    389\u001b[39m \u001b[38;5;28;01mfinally\u001b[39;00m:\n\u001b[32m    390\u001b[39m     RUNNING_ASYNC_FLAG.reset(token)\n",
      "\u001b[36mFile \u001b[39m\u001b[32m/usr/local/lib/python3.11/site-packages/prefect/flows.py:1059\u001b[39m, in \u001b[36mFlow.from_source\u001b[39m\u001b[34m(cls, source, entrypoint)\u001b[39m\n\u001b[32m   1056\u001b[39m \u001b[38;5;28;01mawait\u001b[39;00m storage.pull_code()\n\u001b[32m   1058\u001b[39m full_entrypoint = \u001b[38;5;28mstr\u001b[39m(storage.destination / entrypoint)\n\u001b[32m-> \u001b[39m\u001b[32m1059\u001b[39m flow: Flow = \u001b[38;5;28;01mawait\u001b[39;00m from_async.wait_for_call_in_new_thread(\n\u001b[32m   1060\u001b[39m     create_call(load_flow_from_entrypoint, full_entrypoint)\n\u001b[32m   1061\u001b[39m )\n\u001b[32m   1062\u001b[39m flow._storage = storage\n\u001b[32m   1063\u001b[39m flow._entrypoint = entrypoint\n",
      "\u001b[36mFile \u001b[39m\u001b[32m/usr/local/lib/python3.11/site-packages/prefect/_internal/concurrency/api.py:161\u001b[39m, in \u001b[36mfrom_async.wait_for_call_in_new_thread\u001b[39m\u001b[34m(_from_async__call, timeout, done_callbacks)\u001b[39m\n\u001b[32m    159\u001b[39m _base.call_soon_in_new_thread(call, timeout=timeout)\n\u001b[32m    160\u001b[39m \u001b[38;5;28;01mawait\u001b[39;00m waiter.wait()\n\u001b[32m--> \u001b[39m\u001b[32m161\u001b[39m \u001b[38;5;28;01mreturn\u001b[39;00m \u001b[43mcall\u001b[49m\u001b[43m.\u001b[49m\u001b[43mresult\u001b[49m\u001b[43m(\u001b[49m\u001b[43m)\u001b[49m\n",
      "\u001b[36mFile \u001b[39m\u001b[32m/usr/local/lib/python3.11/site-packages/prefect/_internal/concurrency/calls.py:312\u001b[39m, in \u001b[36mCall.result\u001b[39m\u001b[34m(self, timeout)\u001b[39m\n\u001b[32m    306\u001b[39m \u001b[38;5;28;01mdef\u001b[39;00m \u001b[34mresult\u001b[39m(\u001b[38;5;28mself\u001b[39m, timeout: Optional[\u001b[38;5;28mfloat\u001b[39m] = \u001b[38;5;28;01mNone\u001b[39;00m) -> T:\n\u001b[32m    307\u001b[39m \u001b[38;5;250m    \u001b[39m\u001b[33;03m\"\"\"\u001b[39;00m\n\u001b[32m    308\u001b[39m \u001b[33;03m    Wait for the result of the call.\u001b[39;00m\n\u001b[32m    309\u001b[39m \n\u001b[32m    310\u001b[39m \u001b[33;03m    Not safe for use from asynchronous contexts.\u001b[39;00m\n\u001b[32m    311\u001b[39m \u001b[33;03m    \"\"\"\u001b[39;00m\n\u001b[32m--> \u001b[39m\u001b[32m312\u001b[39m     \u001b[38;5;28;01mreturn\u001b[39;00m \u001b[38;5;28;43mself\u001b[39;49m\u001b[43m.\u001b[49m\u001b[43mfuture\u001b[49m\u001b[43m.\u001b[49m\u001b[43mresult\u001b[49m\u001b[43m(\u001b[49m\u001b[43mtimeout\u001b[49m\u001b[43m=\u001b[49m\u001b[43mtimeout\u001b[49m\u001b[43m)\u001b[49m\n",
      "\u001b[36mFile \u001b[39m\u001b[32m/usr/local/lib/python3.11/site-packages/prefect/_internal/concurrency/calls.py:173\u001b[39m, in \u001b[36mFuture.result\u001b[39m\u001b[34m(self, timeout)\u001b[39m\n\u001b[32m    171\u001b[39m     \u001b[38;5;28;01mraise\u001b[39;00m CancelledError()\n\u001b[32m    172\u001b[39m \u001b[38;5;28;01melif\u001b[39;00m \u001b[38;5;28mself\u001b[39m._state == FINISHED:\n\u001b[32m--> \u001b[39m\u001b[32m173\u001b[39m     \u001b[38;5;28;01mreturn\u001b[39;00m \u001b[38;5;28;43mself\u001b[39;49m\u001b[43m.\u001b[49m\u001b[43m__get_result\u001b[49m\u001b[43m(\u001b[49m\u001b[43m)\u001b[49m\n\u001b[32m    175\u001b[39m \u001b[38;5;28mself\u001b[39m._condition.wait(timeout)\n\u001b[32m    177\u001b[39m \u001b[38;5;28;01mif\u001b[39;00m \u001b[38;5;28mself\u001b[39m._state \u001b[38;5;129;01min\u001b[39;00m [CANCELLED, CANCELLED_AND_NOTIFIED]:\n\u001b[32m    178\u001b[39m     \u001b[38;5;66;03m# Raise Prefect cancelled error instead of\u001b[39;00m\n\u001b[32m    179\u001b[39m     \u001b[38;5;66;03m# `concurrent.futures._base.CancelledError`\u001b[39;00m\n",
      "\u001b[36mFile \u001b[39m\u001b[32m/usr/local/lib/python3.11/concurrent/futures/_base.py:401\u001b[39m, in \u001b[36mFuture.__get_result\u001b[39m\u001b[34m(self)\u001b[39m\n\u001b[32m    399\u001b[39m \u001b[38;5;28;01mif\u001b[39;00m \u001b[38;5;28mself\u001b[39m._exception:\n\u001b[32m    400\u001b[39m     \u001b[38;5;28;01mtry\u001b[39;00m:\n\u001b[32m--> \u001b[39m\u001b[32m401\u001b[39m         \u001b[38;5;28;01mraise\u001b[39;00m \u001b[38;5;28mself\u001b[39m._exception\n\u001b[32m    402\u001b[39m     \u001b[38;5;28;01mfinally\u001b[39;00m:\n\u001b[32m    403\u001b[39m         \u001b[38;5;66;03m# Break a reference cycle with the exception in self._exception\u001b[39;00m\n\u001b[32m    404\u001b[39m         \u001b[38;5;28mself\u001b[39m = \u001b[38;5;28;01mNone\u001b[39;00m\n",
      "\u001b[36mFile \u001b[39m\u001b[32m/usr/local/lib/python3.11/site-packages/prefect/_internal/concurrency/calls.py:346\u001b[39m, in \u001b[36mCall._run_sync\u001b[39m\u001b[34m(***failed resolving arguments***)\u001b[39m\n\u001b[32m    344\u001b[39m \u001b[38;5;28;01mwith\u001b[39;00m \u001b[38;5;28mself\u001b[39m.future.enforce_sync_deadline() \u001b[38;5;28;01mas\u001b[39;00m cancel_scope:\n\u001b[32m    345\u001b[39m     \u001b[38;5;28;01mtry\u001b[39;00m:\n\u001b[32m--> \u001b[39m\u001b[32m346\u001b[39m         result = \u001b[38;5;28;43mself\u001b[39;49m\u001b[43m.\u001b[49m\u001b[43mfn\u001b[49m\u001b[43m(\u001b[49m\u001b[43m*\u001b[49m\u001b[38;5;28;43mself\u001b[39;49m\u001b[43m.\u001b[49m\u001b[43margs\u001b[49m\u001b[43m,\u001b[49m\u001b[43m \u001b[49m\u001b[43m*\u001b[49m\u001b[43m*\u001b[49m\u001b[38;5;28;43mself\u001b[39;49m\u001b[43m.\u001b[49m\u001b[43mkwargs\u001b[49m\u001b[43m)\u001b[49m\n\u001b[32m    347\u001b[39m     \u001b[38;5;28;01mfinally\u001b[39;00m:\n\u001b[32m    348\u001b[39m         \u001b[38;5;66;03m# Forget this call's arguments in order to free up any memory\u001b[39;00m\n\u001b[32m    349\u001b[39m         \u001b[38;5;66;03m# that may be referenced by them; after a call has happened,\u001b[39;00m\n\u001b[32m    350\u001b[39m         \u001b[38;5;66;03m# there's no need to keep a reference to them\u001b[39;00m\n\u001b[32m    351\u001b[39m         \u001b[38;5;28mself\u001b[39m.args = \u001b[38;5;28;01mNone\u001b[39;00m\n",
      "\u001b[36mFile \u001b[39m\u001b[32m/usr/local/lib/python3.11/site-packages/prefect/flows.py:1749\u001b[39m, in \u001b[36mload_flow_from_entrypoint\u001b[39m\u001b[34m(entrypoint, use_placeholder_flow)\u001b[39m\n\u001b[32m   1747\u001b[39m     flow = import_object(entrypoint)\n\u001b[32m   1748\u001b[39m \u001b[38;5;28;01mexcept\u001b[39;00m \u001b[38;5;167;01mAttributeError\u001b[39;00m \u001b[38;5;28;01mas\u001b[39;00m exc:\n\u001b[32m-> \u001b[39m\u001b[32m1749\u001b[39m     \u001b[38;5;28;01mraise\u001b[39;00m MissingFlowError(\n\u001b[32m   1750\u001b[39m         \u001b[33mf\u001b[39m\u001b[33m\"\u001b[39m\u001b[33mFlow function with name \u001b[39m\u001b[38;5;132;01m{\u001b[39;00mfunc_name\u001b[38;5;132;01m!r}\u001b[39;00m\u001b[33m not found in \u001b[39m\u001b[38;5;132;01m{\u001b[39;00mpath\u001b[38;5;132;01m!r}\u001b[39;00m\u001b[33m. \u001b[39m\u001b[33m\"\u001b[39m\n\u001b[32m   1751\u001b[39m     ) \u001b[38;5;28;01mfrom\u001b[39;00m \u001b[34;01mexc\u001b[39;00m\n\u001b[32m   1752\u001b[39m \u001b[38;5;28;01mexcept\u001b[39;00m ScriptError:\n\u001b[32m   1753\u001b[39m     \u001b[38;5;66;03m# If the flow has dependencies that are not installed in the current\u001b[39;00m\n\u001b[32m   1754\u001b[39m     \u001b[38;5;66;03m# environment, fallback to loading the flow via AST parsing.\u001b[39;00m\n\u001b[32m   1755\u001b[39m     \u001b[38;5;28;01mif\u001b[39;00m use_placeholder_flow:\n",
      "\u001b[31mMissingFlowError\u001b[39m: Flow function with name 'main_flow' not found in '/tmp/tmpvqdyhnug/demos/my_workflow.py'. "
     ]
    }
   ],
   "source": [
    "import nest_asyncio\n",
    "nest_asyncio.apply()\n",
    "\n",
    "import asyncio\n",
    "from prefect import flow\n",
    "# Use the proper import for deployments if needed (depending on your version)\n",
    "# For example, in Prefect 3, the flow.from_source method is asynchronous.\n",
    "\n",
    "SOURCE_REPO = \"https://github.com/prefecthq/demos.git\"\n",
    "\n",
    "async def register_deployment():\n",
    "    # Await the from_source call to load the flow\n",
    "    loaded_flow = await flow.from_source(\n",
    "        source=SOURCE_REPO,\n",
    "        entrypoint=\"my_workflow.py:show_stars\",  # Adjust to your repo's structure\n",
    "    )\n",
    "    # Now deploy the loaded flow (awaiting the deploy call)\n",
    "    deployment = await loaded_flow.deploy(\n",
    "        name=\"my_deployment\",\n",
    "        parameters={\n",
    "            \"github_repos\": [\n",
    "                \"wasit7/papapipeline\",\n",
    "                \"wasit7/DjangoCrafter\",\n",
    "                \"PrefectHQ/prefect\",\n",
    "                \"huggingface/transformers\"\n",
    "            ]\n",
    "        },\n",
    "        work_pool_name=\"default-agent-pool\",\n",
    "        cron=\"*/15 * * * *\"  # Run every 5 minutes (adjust as needed)\n",
    "    )\n",
    "    return deployment\n",
    "\n",
    "# Run the async function in Jupyter using await at top-level\n",
    "deployment_result = await register_deployment()\n",
    "print(\"Deployment registered:\", deployment_result)\n"
   ]
  },
  {
   "cell_type": "code",
   "execution_count": null,
   "id": "428f209e-340a-4715-8f60-ca70fc3b3c21",
   "metadata": {},
   "outputs": [],
   "source": []
  },
  {
   "cell_type": "code",
   "execution_count": null,
   "id": "d59ea8c7-5c0d-4a2f-a176-f2cfb3767413",
   "metadata": {},
   "outputs": [],
   "source": []
  }
 ],
 "metadata": {
  "kernelspec": {
   "display_name": "Python 3 (ipykernel)",
   "language": "python",
   "name": "python3"
  },
  "language_info": {
   "codemirror_mode": {
    "name": "ipython",
    "version": 3
   },
   "file_extension": ".py",
   "mimetype": "text/x-python",
   "name": "python",
   "nbconvert_exporter": "python",
   "pygments_lexer": "ipython3",
   "version": "3.11.9"
  }
 },
 "nbformat": 4,
 "nbformat_minor": 5
}
